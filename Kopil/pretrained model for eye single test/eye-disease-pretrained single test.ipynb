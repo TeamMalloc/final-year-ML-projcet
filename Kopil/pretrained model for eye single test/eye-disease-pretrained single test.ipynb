{
 "cells": [
  {
   "cell_type": "code",
   "execution_count": 5,
   "id": "6a08599a",
   "metadata": {},
   "outputs": [],
   "source": [
    "import pickle\n",
    "import numpy as np\n",
    "from tensorflow.keras.preprocessing import image\n",
    "from PIL import Image"
   ]
  },
  {
   "cell_type": "code",
   "execution_count": 6,
   "id": "cb2c03f3",
   "metadata": {},
   "outputs": [],
   "source": [
    "# Load the pre-trained model\n",
    "# Pneumonia_pretrained_model_file = '/kaggle/input/cnn-test-02-pretrained-model.sav'\n",
    "loaded_model = pickle.load(open('eye-disease-pretrained-CNN-02-model.sav','rb'))\n",
    "# loaded_model = pickle.load(open(Pneumonia_pretrained_model_file, 'rb'))\n",
    "\n"
   ]
  },
  {
   "cell_type": "code",
   "execution_count": 46,
   "id": "0a8985ea",
   "metadata": {},
   "outputs": [],
   "source": [
    "\n",
    "# Load a single image for prediction\n",
    "img_size=150\n",
    "\n",
    "img_path = 'G:/eye data/Splited_Dataset(0.8,0.1,0.1)/test/cataract/cataract_046.png'  # ono path change koris\n",
    "img = image.load_img(img_path, target_size=(img_size, img_size), color_mode='grayscale')\n",
    "img_array = image.img_to_array(img)\n",
    "img_array = np.expand_dims(img_array, axis=0)  \n",
    "\n",
    "img_array_rgb = np.concatenate([img_array, img_array, img_array], axis=-1)\n",
    "\n",
    "# Preprocess the image\n",
    "img_array_rgb /= 255.0   # Rescale to the range [0,1]\n"
   ]
  },
  {
   "cell_type": "code",
   "execution_count": 47,
   "id": "bcd8a6e2",
   "metadata": {},
   "outputs": [
    {
     "name": "stdout",
     "output_type": "stream",
     "text": [
      "1/1 [==============================] - 0s 54ms/step\n"
     ]
    }
   ],
   "source": [
    "# Make predictions\n",
    "prediction = loaded_model.predict(img_array_rgb)\n",
    "\n"
   ]
  },
  {
   "cell_type": "code",
   "execution_count": 54,
   "id": "710c785f",
   "metadata": {},
   "outputs": [
    {
     "data": {
      "text/plain": [
       "0.9746892"
      ]
     },
     "execution_count": 54,
     "metadata": {},
     "output_type": "execute_result"
    }
   ],
   "source": []
  },
  {
   "cell_type": "code",
   "execution_count": 55,
   "id": "d2d49f4a",
   "metadata": {},
   "outputs": [
    {
     "name": "stdout",
     "output_type": "stream",
     "text": [
      "glaucoma\n"
     ]
    }
   ],
   "source": [
    "# Interpret the prediction\n",
    "if prediction[0][0] > 0.5:\n",
    "    print(\"cataract\")\n",
    "elif prediction[0][1] > 0.5:\n",
    "    print(\"diabetic_retinopathy\")\n",
    "elif prediction[0][2] > 0.5:\n",
    "    print(\"glaucoma\")\n",
    "elif prediction[0][3] > 0.5:\n",
    "    print(\"normal\")"
   ]
  },
  {
   "cell_type": "code",
   "execution_count": 25,
   "id": "7d628b60",
   "metadata": {},
   "outputs": [],
   "source": [
    "\n"
   ]
  },
  {
   "cell_type": "code",
   "execution_count": 26,
   "id": "95e6ad09",
   "metadata": {},
   "outputs": [
    {
     "name": "stdout",
     "output_type": "stream",
     "text": [
      "1/1 [==============================] - 0s 46ms/step\n"
     ]
    }
   ],
   "source": []
  },
  {
   "cell_type": "code",
   "execution_count": 30,
   "id": "34daab10",
   "metadata": {},
   "outputs": [
    {
     "data": {
      "text/plain": [
       "9.0589465e-33"
      ]
     },
     "execution_count": 30,
     "metadata": {},
     "output_type": "execute_result"
    }
   ],
   "source": []
  },
  {
   "cell_type": "code",
   "execution_count": null,
   "id": "0c438b7d",
   "metadata": {},
   "outputs": [],
   "source": []
  }
 ],
 "metadata": {
  "kernelspec": {
   "display_name": "Python 3 (ipykernel)",
   "language": "python",
   "name": "python3"
  },
  "language_info": {
   "codemirror_mode": {
    "name": "ipython",
    "version": 3
   },
   "file_extension": ".py",
   "mimetype": "text/x-python",
   "name": "python",
   "nbconvert_exporter": "python",
   "pygments_lexer": "ipython3",
   "version": "3.9.12"
  }
 },
 "nbformat": 4,
 "nbformat_minor": 5
}
