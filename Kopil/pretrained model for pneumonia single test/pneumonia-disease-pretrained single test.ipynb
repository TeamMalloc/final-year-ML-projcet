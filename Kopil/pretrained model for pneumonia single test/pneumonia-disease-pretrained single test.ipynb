{
 "cells": [
  {
   "cell_type": "code",
   "execution_count": 7,
   "id": "3058be28",
   "metadata": {},
   "outputs": [],
   "source": [
    "import pickle\n",
    "import numpy as np\n",
    "from tensorflow.keras.preprocessing import image\n",
    "from PIL import Image"
   ]
  },
  {
   "cell_type": "code",
   "execution_count": 8,
   "id": "06532136",
   "metadata": {},
   "outputs": [],
   "source": [
    "# Load the pre-trained model\n",
    "# Pneumonia_pretrained_model_file = '/kaggle/input/cnn-test-02-pretrained-model.sav'\n",
    "loaded_model = pickle.load(open('pneumonia-disease-pretrained-CNN-02-model.sav','rb'))\n",
    "# loaded_model = pickle.load(open(Pneumonia_pretrained_model_file, 'rb'))\n",
    "\n"
   ]
  },
  {
   "cell_type": "code",
   "execution_count": 12,
   "id": "a9030407",
   "metadata": {},
   "outputs": [],
   "source": [
    "\n",
    "# Load a single image for prediction\n",
    "img_size=150\n",
    "\n",
    "img_path = 'G:/CNN XRAY IMG/chest_xray/chest_xray/test/NORMAL/IM-0001-0001.jpeg'  # ono path change koris\n",
    "img = image.load_img(img_path, target_size=(img_size, img_size), color_mode='grayscale')\n",
    "img_array = image.img_to_array(img)\n",
    "img_array = np.expand_dims(img_array, axis=0)  \n",
    "\n",
    "# Preprocess the image\n",
    "img_array /= 255.0  # Rescale to the range [0,1]\n"
   ]
  },
  {
   "cell_type": "code",
   "execution_count": 13,
   "id": "33af685b",
   "metadata": {},
   "outputs": [
    {
     "name": "stdout",
     "output_type": "stream",
     "text": [
      "1/1 [==============================] - 0s 332ms/step\n"
     ]
    }
   ],
   "source": [
    "# Make predictions\n",
    "prediction = loaded_model.predict(img_array)\n",
    "\n"
   ]
  },
  {
   "cell_type": "code",
   "execution_count": 14,
   "id": "a0079d63",
   "metadata": {},
   "outputs": [
    {
     "name": "stdout",
     "output_type": "stream",
     "text": [
      "Prediction: Not Pneumonia\n"
     ]
    }
   ],
   "source": [
    "# Interpret the prediction\n",
    "if prediction[0][0] > 0.5:\n",
    "    print(\"Prediction: Pneumonia\")\n",
    "else:\n",
    "    print(\"Prediction: Not Pneumonia\")"
   ]
  },
  {
   "cell_type": "code",
   "execution_count": null,
   "id": "541847f3",
   "metadata": {},
   "outputs": [],
   "source": []
  }
 ],
 "metadata": {
  "kernelspec": {
   "display_name": "Python 3 (ipykernel)",
   "language": "python",
   "name": "python3"
  },
  "language_info": {
   "codemirror_mode": {
    "name": "ipython",
    "version": 3
   },
   "file_extension": ".py",
   "mimetype": "text/x-python",
   "name": "python",
   "nbconvert_exporter": "python",
   "pygments_lexer": "ipython3",
   "version": "3.9.12"
  }
 },
 "nbformat": 4,
 "nbformat_minor": 5
}
