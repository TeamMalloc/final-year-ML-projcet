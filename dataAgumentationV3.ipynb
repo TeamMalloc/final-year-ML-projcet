{
 "cells": [
  {
   "cell_type": "code",
   "execution_count": 4,
   "metadata": {},
   "outputs": [],
   "source": [
    "import cv2\n",
    "import os\n",
    "import numpy as np\n",
    "import random"
   ]
  },
  {
   "cell_type": "code",
   "execution_count": 5,
   "metadata": {},
   "outputs": [],
   "source": [
    "# Data augmentation parameters\n",
    "augmentation_factor = 5  # Number of augmented samples to generate per original sample\n",
    "output_folder = 'augmented_images'  # Folder to save augmented images\n",
    "\n",
    "# Create output folder if it doesn't exist\n",
    "if not os.path.exists(output_folder):\n",
    "    os.mkdir(output_folder)\n",
    "\n",
    "# Image augmentation function\n",
    "def augment_image(image):\n",
    "    augmented_images = []\n",
    "    \n",
    "    # Invert image\n",
    "    inverted_image = cv2.bitwise_not(image)\n",
    "    augmented_images.append(('inverted', inverted_image))\n",
    "    \n",
    "    # Rotate image\n",
    "    angle = random.uniform(-30, 30)\n",
    "    rotation_matrix = cv2.getRotationMatrix2D((image.shape[1] / 2, image.shape[0] / 2), angle, 1.0)\n",
    "    rotated_image = cv2.warpAffine(image, rotation_matrix, (image.shape[1], image.shape[0]))\n",
    "    augmented_images.append(('rotated', rotated_image))\n",
    "    \n",
    "    # Translate image\n",
    "    translation_x = random.uniform(-20, 20)\n",
    "    translation_y = random.uniform(-20, 20)\n",
    "    translation_matrix = np.float32([[1, 0, translation_x], [0, 1, translation_y]])\n",
    "    translated_image = cv2.warpAffine(image, translation_matrix, (image.shape[1], image.shape[0]))\n",
    "    augmented_images.append(('translated', translated_image))\n",
    "    \n",
    "    # Grayscale conversion\n",
    "    grayscale_image = cv2.cvtColor(image, cv2.COLOR_BGR2GRAY)\n",
    "    augmented_images.append(('grayscale', grayscale_image))\n",
    "    \n",
    "    return augmented_images"
   ]
  },
  {
   "cell_type": "code",
   "execution_count": 6,
   "metadata": {},
   "outputs": [],
   "source": [
    "# Image augmentation for each folder in the dataset\n",
    "data_dir = 'chest_xray/chest_xray/train'\n",
    "for folder in os.listdir(data_dir):\n",
    "    folder_path = os.path.join(data_dir, folder)\n",
    "    \n",
    "    if not os.path.isdir(folder_path):\n",
    "        continue  # Skip non-directory files\n",
    "    \n",
    "    # Create folder for augmented images\n",
    "    output_folder_path = os.path.join(output_folder, folder)\n",
    "    if not os.path.exists(output_folder_path):\n",
    "        os.makedirs(output_folder_path)\n",
    "    \n",
    "    for filename in os.listdir(folder_path):\n",
    "        image_path = os.path.join(folder_path, filename)\n",
    "        \n",
    "        image = cv2.imread(image_path)\n",
    "        \n",
    "        augmented_images = augment_image(image)\n",
    "        \n",
    "        # Save augmented images\n",
    "        for i, (augmentation_type, augmented_image) in enumerate(augmented_images):\n",
    "            output_filename = f\"{filename.split('.')[0]}_{i+1}_{augmentation_type}.{filename.split('.')[1]}\"\n",
    "            output_path = os.path.join(output_folder_path, output_filename)\n",
    "            \n",
    "            cv2.imwrite(output_path, augmented_image)\n"
   ]
  }
 ],
 "metadata": {
  "kernelspec": {
   "display_name": "base",
   "language": "python",
   "name": "python3"
  },
  "language_info": {
   "codemirror_mode": {
    "name": "ipython",
    "version": 3
   },
   "file_extension": ".py",
   "mimetype": "text/x-python",
   "name": "python",
   "nbconvert_exporter": "python",
   "pygments_lexer": "ipython3",
   "version": "3.9.13"
  },
  "orig_nbformat": 4
 },
 "nbformat": 4,
 "nbformat_minor": 2
}
