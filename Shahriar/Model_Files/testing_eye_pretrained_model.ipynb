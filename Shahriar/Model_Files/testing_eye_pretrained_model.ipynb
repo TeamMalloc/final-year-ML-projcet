{
 "cells": [
  {
   "cell_type": "code",
   "execution_count": 1,
   "id": "ee84694f",
   "metadata": {},
   "outputs": [],
   "source": [
    "import pickle\n",
    "from PIL import Image"
   ]
  },
  {
   "cell_type": "code",
   "execution_count": 2,
   "id": "753d80ad",
   "metadata": {},
   "outputs": [],
   "source": [
    "pre_trained_moedl = pickle.load(open('eye-disease-pretrained-mode.sav','rb'))"
   ]
  },
  {
   "cell_type": "code",
   "execution_count": 12,
   "id": "b394f47c",
   "metadata": {},
   "outputs": [],
   "source": [
    "image_path = 'D:/NEUB/MachineLearning/ThesisProject/Eye_Disease_Dataset/Splited_Dataset(0.8,0.1,0.1)/augmented_data/test/glaucoma/_4_1717111.jpg'\n"
   ]
  },
  {
   "cell_type": "code",
   "execution_count": 13,
   "id": "19a49584",
   "metadata": {},
   "outputs": [],
   "source": [
    "from torchvision import models, datasets, transforms\n",
    "individual_image_transform = transforms.Compose([\n",
    "    transforms.Resize((224, 224)),\n",
    "    transforms.ToTensor(),\n",
    "    transforms.Normalize([0.0014, 0.0012, 0.0007], [0.0007, 0.0006, 0.0004])\n",
    "])"
   ]
  },
  {
   "cell_type": "code",
   "execution_count": 14,
   "id": "4335f6da",
   "metadata": {},
   "outputs": [],
   "source": [
    "individual_image = Image.open(image_path)"
   ]
  },
  {
   "cell_type": "code",
   "execution_count": 15,
   "id": "4d4388ce",
   "metadata": {},
   "outputs": [],
   "source": [
    "individual_image = individual_image_transform(individual_image)\n",
    "individual_image = individual_image.unsqueeze(0)"
   ]
  },
  {
   "cell_type": "code",
   "execution_count": 16,
   "id": "ba217df5",
   "metadata": {},
   "outputs": [],
   "source": [
    "import torch\n",
    "device = torch.device(\"cuda\" if torch.cuda.is_available() else \"cpu\")"
   ]
  },
  {
   "cell_type": "code",
   "execution_count": 17,
   "id": "d0669a6b",
   "metadata": {},
   "outputs": [],
   "source": [
    "pre_trained_moedl = pre_trained_moedl.to(device)\n",
    "individual_image = individual_image.to(device)"
   ]
  },
  {
   "cell_type": "code",
   "execution_count": 18,
   "id": "95e93e1b",
   "metadata": {},
   "outputs": [],
   "source": [
    "pre_trained_moedl.eval()\n",
    "with torch.no_grad():\n",
    "    output = pre_trained_moedl(individual_image)"
   ]
  },
  {
   "cell_type": "code",
   "execution_count": 19,
   "id": "dec28c90",
   "metadata": {},
   "outputs": [],
   "source": [
    "_,predicted_class = torch.max(output, 1)\n",
    "predicted_class = predicted_class.item()"
   ]
  },
  {
   "cell_type": "code",
   "execution_count": 20,
   "id": "b4ac04cc",
   "metadata": {},
   "outputs": [
    {
     "name": "stdout",
     "output_type": "stream",
     "text": [
      "2\n"
     ]
    }
   ],
   "source": [
    "print(predicted_class)"
   ]
  },
  {
   "cell_type": "code",
   "execution_count": null,
   "id": "a5a53d09",
   "metadata": {},
   "outputs": [],
   "source": []
  }
 ],
 "metadata": {
  "kernelspec": {
   "display_name": "Python 3 (ipykernel)",
   "language": "python",
   "name": "python3"
  },
  "language_info": {
   "codemirror_mode": {
    "name": "ipython",
    "version": 3
   },
   "file_extension": ".py",
   "mimetype": "text/x-python",
   "name": "python",
   "nbconvert_exporter": "python",
   "pygments_lexer": "ipython3",
   "version": "3.9.16"
  }
 },
 "nbformat": 4,
 "nbformat_minor": 5
}
