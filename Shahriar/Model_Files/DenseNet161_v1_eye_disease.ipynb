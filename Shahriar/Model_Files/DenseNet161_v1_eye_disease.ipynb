{
 "cells": [
  {
   "cell_type": "code",
   "execution_count": 1,
   "id": "edaf5a79",
   "metadata": {},
   "outputs": [],
   "source": [
    "import torch\n",
    "import re\n",
    "\n",
    "from torchvision import models, datasets, transforms\n",
    "import os\n",
    "import time"
   ]
  },
  {
   "cell_type": "code",
   "execution_count": 3,
   "id": "2839a60c",
   "metadata": {},
   "outputs": [
    {
     "name": "stdout",
     "output_type": "stream",
     "text": [
      "{'train': 6744, 'validation': 419, 'test': 426}\n",
      "['cataract', 'diabetic_retinopathy', 'glaucoma', 'normal']\n",
      "['cataract', 'diabetic_retinopathy', 'glaucoma', 'normal']\n"
     ]
    }
   ],
   "source": [
    "\n",
    "data_dir = 'D:/NEUB/MachineLearning/ThesisProject/Eye_Disease_Dataset/Splited_Dataset(0.8,0.1,0.1)/augmented_data'\n",
    "\n",
    "data_transforms = {\n",
    "    'train': transforms.Compose([\n",
    "        transforms.Resize((224, 224)),\n",
    "        transforms.ToTensor(),\n",
    "        transforms.Normalize([0.0014, 0.0012, 0.0007],[0.0007, 0.0006, 0.0004])\n",
    "    ]),\n",
    "    'validation': transforms.Compose([\n",
    "        transforms.Resize((224, 224)),\n",
    "        transforms.ToTensor(),\n",
    "        transforms.Normalize([0.0014, 0.0012, 0.0007],[0.0007, 0.0006, 0.0004])\n",
    "    ]),\n",
    "    'test': transforms.Compose([\n",
    "        transforms.Resize((224, 224)),\n",
    "        transforms.ToTensor(),\n",
    "        transforms.Normalize([0.0014, 0.0012, 0.0007],[0.0007, 0.0006, 0.0004])\n",
    "    ])\n",
    "}\n",
    "\n",
    "# Load the datasets and apply the transformations\n",
    "img_datasets = {\n",
    "    x: datasets.ImageFolder(os.path.join(data_dir, x), transform=data_transforms[x])\n",
    "    for x in ['train', 'validation', 'test']\n",
    "}\n",
    "\n",
    "# Create data loaders\n",
    "dataloaders = {\n",
    "    x: torch.utils.data.DataLoader(img_datasets[x], batch_size=32, shuffle=True, num_workers=4)\n",
    "    for x in ['train', 'validation', 'test']\n",
    "}\n",
    "\n",
    "# Get dataset sizes\n",
    "dataset_sizes = {x: len(img_datasets[x]) for x in ['train', 'validation', 'test']}\n",
    "print(dataset_sizes)\n",
    "\n",
    "# Get class names\n",
    "class_names = img_datasets['train'].classes\n",
    "print(class_names)\n",
    "\n",
    "# Get class names test\n",
    "class_names_test = img_datasets['test'].classes\n",
    "print(class_names_test)\n"
   ]
  },
  {
   "cell_type": "code",
   "execution_count": 4,
   "id": "1a7a9b80",
   "metadata": {},
   "outputs": [
    {
     "name": "stderr",
     "output_type": "stream",
     "text": [
      "C:\\Users\\HP\\.conda\\envs\\ForML\\lib\\site-packages\\torchvision\\models\\_utils.py:208: UserWarning: The parameter 'pretrained' is deprecated since 0.13 and will be removed in 0.15, please use 'weights' instead.\n",
      "  warnings.warn(\n",
      "C:\\Users\\HP\\.conda\\envs\\ForML\\lib\\site-packages\\torchvision\\models\\_utils.py:223: UserWarning: Arguments other than a weight enum or `None` for 'weights' are deprecated since 0.13 and will be removed in 0.15. The current behavior is equivalent to passing `weights=DenseNet161_Weights.IMAGENET1K_V1`. You can also use `weights=DenseNet161_Weights.DEFAULT` to get the most up-to-date weights.\n",
      "  warnings.warn(msg)\n"
     ]
    }
   ],
   "source": [
    "model = models.densenet161(pretrained = True)"
   ]
  },
  {
   "cell_type": "code",
   "execution_count": 5,
   "id": "3179381d",
   "metadata": {},
   "outputs": [
    {
     "name": "stdout",
     "output_type": "stream",
     "text": [
      "28681000\n"
     ]
    }
   ],
   "source": [
    "# freezing the layers of the pre-trained model\n",
    "for freeze_parameters in model.parameters():\n",
    "    freeze_parameters.requires_grad = False\n",
    "total_params = sum(p.numel() for p in model.parameters())\n",
    "print(total_params)"
   ]
  },
  {
   "cell_type": "code",
   "execution_count": 6,
   "id": "2b36e118",
   "metadata": {},
   "outputs": [
    {
     "name": "stdout",
     "output_type": "stream",
     "text": [
      "2208\n"
     ]
    }
   ],
   "source": [
    "import torch.nn as nn\n",
    "\n",
    "num_input_features = model.classifier.in_features\n",
    "print(num_input_features)\n",
    "model.classifier = nn.Linear(num_input_features, 4)"
   ]
  },
  {
   "cell_type": "code",
   "execution_count": 7,
   "id": "70493f47",
   "metadata": {},
   "outputs": [],
   "source": [
    "# define the loss function\n",
    "# which helps to measures the error between the predicted and true labels for multiclass classification.\n",
    "criteration = nn.CrossEntropyLoss()"
   ]
  },
  {
   "cell_type": "code",
   "execution_count": 8,
   "id": "67df8e6b",
   "metadata": {},
   "outputs": [],
   "source": [
    "# Define the aptimization loss\n",
    "import torch.optim as optim\n",
    "\n",
    "optimizer = optim.Adam(model.parameters())\n",
    "\n",
    "# select the Adam optimizer to update the weights of the linear layer during training.\n",
    "# The optimizer takes the parameters of the model as input."
   ]
  },
  {
   "cell_type": "code",
   "execution_count": 9,
   "id": "d352139a",
   "metadata": {},
   "outputs": [
    {
     "name": "stdout",
     "output_type": "stream",
     "text": [
      "Epoch 1/10: Training Loss: 0.5899 Acc: 0.7838, Validation Loss: 0.3037 Acc: 0.9141\n",
      "Epoch 2/10: Training Loss: 0.3788 Acc: 0.8701, Validation Loss: 0.3561 Acc: 0.8616\n",
      "Epoch 3/10: Training Loss: 0.3352 Acc: 0.8809, Validation Loss: 0.3060 Acc: 0.8854\n",
      "Epoch 4/10: Training Loss: 0.2951 Acc: 0.8947, Validation Loss: 0.2779 Acc: 0.9021\n",
      "Epoch 5/10: Training Loss: 0.2789 Acc: 0.8955, Validation Loss: 0.2783 Acc: 0.8998\n",
      "Epoch 6/10: Training Loss: 0.2618 Acc: 0.9008, Validation Loss: 0.2898 Acc: 0.8902\n",
      "Epoch 7/10: Training Loss: 0.2522 Acc: 0.9115, Validation Loss: 0.3687 Acc: 0.8640\n",
      "Epoch 8/10: Training Loss: 0.2402 Acc: 0.9136, Validation Loss: 0.2677 Acc: 0.9045\n",
      "Epoch 9/10: Training Loss: 0.2293 Acc: 0.9156, Validation Loss: 0.2511 Acc: 0.9069\n",
      "Epoch 10/10: Training Loss: 0.2224 Acc: 0.9193, Validation Loss: 0.3007 Acc: 0.8854\n",
      "Training complete in 25m 26s\n"
     ]
    },
    {
     "data": {
      "text/plain": [
       "<All keys matched successfully>"
      ]
     },
     "execution_count": 9,
     "metadata": {},
     "output_type": "execute_result"
    }
   ],
   "source": [
    "# set the divice \n",
    "device = torch.device(\"cuda:0\" if torch.cuda.is_available() else \"cpu\")\n",
    "\n",
    "# move the model to the device\n",
    "model = model.to(device)\n",
    "\n",
    "num_epochs = 10\n",
    "\n",
    "best_loss = float('inf')\n",
    "best_weights = None\n",
    "\n",
    "for epoch in range(num_epochs):\n",
    "    since = time.time()\n",
    "    running_loss = 0.0\n",
    "    running_corrects = 0\n",
    "    val_loss = 0.0\n",
    "    val_corrects = 0\n",
    "    \n",
    "    # set the model in training mode\n",
    "    model.train()\n",
    "\n",
    "    for inputs, labels in dataloaders['train']:\n",
    "        inputs = inputs.to(device)\n",
    "        labels = labels.to(device)\n",
    "\n",
    "        # zero the parameter gradients\n",
    "        optimizer.zero_grad()\n",
    "\n",
    "        # forward pass\n",
    "        features = model(inputs)\n",
    "        outputs = features\n",
    "\n",
    "        # compute the loss\n",
    "        loss = criteration(outputs, labels)\n",
    "\n",
    "        # backward pass\n",
    "        loss.backward()\n",
    "\n",
    "        # update the parameter\n",
    "        optimizer.step()\n",
    "\n",
    "        # calculate training accuracy\n",
    "        _, preds = torch.max(outputs, 1)\n",
    "        running_loss += loss.item() * inputs.size(0)\n",
    "        running_corrects += torch.sum(preds == labels.data)\n",
    "\n",
    "    # calculate training loss and accuracy\n",
    "    epoch_loss = running_loss / dataset_sizes['train']\n",
    "    epoch_acc = running_corrects.double() / dataset_sizes['train']\n",
    "\n",
    "    model.eval()\n",
    "\n",
    "    with torch.no_grad():\n",
    "        for inputs, labels in dataloaders['validation']:\n",
    "            inputs = inputs.to(device)\n",
    "            labels = labels.to(device)\n",
    "\n",
    "            # forward pass\n",
    "            features = model(inputs)\n",
    "            outputs = features\n",
    "\n",
    "            # calculate the loss\n",
    "            val_loss += criteration(outputs, labels).item() * inputs.size(0)\n",
    "\n",
    "            # calculate validation accuracy\n",
    "            _, preds = torch.max(outputs, 1)\n",
    "            val_corrects += torch.sum(preds == labels.data)\n",
    "\n",
    "    # calculate validation loss and accuracy\n",
    "    val_loss = val_loss / dataset_sizes['validation']\n",
    "    val_acc = val_corrects.double() / dataset_sizes['validation']\n",
    "\n",
    "    # Check if current validation loss is better than the best loss\n",
    "    if val_loss < best_loss:\n",
    "        best_loss = val_loss\n",
    "        best_weights = model.state_dict()\n",
    "\n",
    "    # Print epoch, training loss, training accuracy, validation loss, and validation accuracy\n",
    "    print(f'Epoch {epoch+1}/{num_epochs}: Training Loss: {epoch_loss:.4f} Acc: {epoch_acc:.4f}, '\n",
    "          f'Validation Loss: {val_loss:.4f} Acc: {val_acc:.4f}')\n",
    "\n",
    "time_elapsed = time.time() - since\n",
    "print(f\"Training complete in {time_elapsed // 60:.0f}m {time_elapsed % 60:.0f}s\")\n",
    "\n",
    "# Load the best weights\n",
    "model.load_state_dict(best_weights)\n"
   ]
  },
  {
   "cell_type": "code",
   "execution_count": 10,
   "id": "2b092e2a",
   "metadata": {},
   "outputs": [],
   "source": [
    "from sklearn.metrics import confusion_matrix, accuracy_score,precision_score,recall_score"
   ]
  },
  {
   "cell_type": "code",
   "execution_count": 13,
   "id": "766e5ed5",
   "metadata": {},
   "outputs": [],
   "source": [
    "# Calculate test accuracy, precision, and recall\n",
    "test_corrects = 0\n",
    "predicted_labels = []\n",
    "true_labels = []\n",
    "model.eval()\n",
    "\n",
    "with torch.no_grad():\n",
    "    for inputs, labels in dataloaders['test']:\n",
    "        inputs = inputs.to(device)\n",
    "        labels = labels.to(device)\n",
    "\n",
    "        # Forward pass\n",
    "        features = model(inputs)\n",
    "        outputs = features\n",
    "\n",
    "        # Calculate test accuracy\n",
    "        _, preds = torch.max(outputs, 1)\n",
    "        test_corrects += torch.sum(preds == labels.data)\n",
    "\n",
    "        # Store predicted and true labels for confusion matrix\n",
    "        predicted_labels.extend(preds.cpu().numpy())\n",
    "        true_labels.extend(labels.cpu().numpy())\n",
    "    \n",
    "# Calculate test accuracy\n",
    "test_acc = test_corrects.double() / dataset_sizes['test']\n",
    "\n",
    "# Calculate confusion matrix\n",
    "confusion_mat = confusion_matrix(true_labels, predicted_labels)\n",
    "\n",
    "# Calculate precision and recall\n",
    "precision = precision_score(true_labels, predicted_labels, average='macro')\n",
    "recall = recall_score(true_labels, predicted_labels, average='macro')"
   ]
  },
  {
   "cell_type": "code",
   "execution_count": 14,
   "id": "c654ed86",
   "metadata": {},
   "outputs": [
    {
     "name": "stdout",
     "output_type": "stream",
     "text": [
      "Test Accuracy: 0.7629\n",
      "Precision: 0.7868\n",
      "Recall: 0.7602\n",
      "Confusion Matrix:\n",
      "[[ 45   0  60   0]\n",
      " [  0 102   3   6]\n",
      " [ 18   1  83   0]\n",
      " [  1   2  10  95]]\n"
     ]
    }
   ],
   "source": [
    "print(f'Test Accuracy: {test_acc:.4f}')\n",
    "print(f'Precision: {precision:.4f}')\n",
    "print(f'Recall: {recall:.4f}')\n",
    "print('Confusion Matrix:')\n",
    "print(confusion_mat)"
   ]
  },
  {
   "cell_type": "code",
   "execution_count": 15,
   "id": "df7525d2",
   "metadata": {},
   "outputs": [
    {
     "data": {
      "text/plain": [
       "['cataract', 'diabetic_retinopathy', 'glaucoma', 'normal']"
      ]
     },
     "execution_count": 15,
     "metadata": {},
     "output_type": "execute_result"
    }
   ],
   "source": [
    "class_names = dataloaders['test'].dataset.classes\n",
    "class_names"
   ]
  },
  {
   "cell_type": "code",
   "execution_count": 16,
   "id": "4d2cf643",
   "metadata": {},
   "outputs": [],
   "source": [
    "import seaborn as sns\n",
    "import matplotlib.pyplot as plt\n",
    "import numpy as np"
   ]
  },
  {
   "cell_type": "code",
   "execution_count": 17,
   "id": "be1798ed",
   "metadata": {},
   "outputs": [
    {
     "data": {
      "image/png": "[encoded data removed]",
      "text/plain": [
       "<Figure size 500x500 with 2 Axes>"
      ]
     },
     "metadata": {},
     "output_type": "display_data"
    }
   ],
   "source": [
    "fig, ax = plt.subplots(figsize=(5, 5))\n",
    "sns.set(font_scale=1.0)  # Adjust font size as needed\n",
    "sns.heatmap(\n",
    "    confusion_mat,\n",
    "    annot=True,\n",
    "    fmt='d',\n",
    "    cmap=\"Blues\",  # You can choose a different color palette\n",
    "    xticklabels=class_names,\n",
    "    yticklabels=class_names,\n",
    ")\n",
    "# ax.set_xticklabels(class_names, rotation=0)\n",
    "plt.xlabel('Predicted Labels')\n",
    "plt.ylabel('True Labels')\n",
    "plt.title('Confusion Matrix')\n",
    "plt.show()"
   ]
  },
  {
   "cell_type": "markdown",
   "id": "c9886c98",
   "metadata": {},
   "source": [
    "### saving the pretrained model"
   ]
  },
  {
   "cell_type": "code",
   "execution_count": 18,
   "id": "b9068f5a",
   "metadata": {},
   "outputs": [],
   "source": [
    "import pickle"
   ]
  },
  {
   "cell_type": "code",
   "execution_count": 19,
   "id": "7aa5b64d",
   "metadata": {},
   "outputs": [],
   "source": [
    "eye_disease_moeld_file = 'eye-disease-pretrained-mode.sav'"
   ]
  },
  {
   "cell_type": "code",
   "execution_count": 20,
   "id": "9c06c054",
   "metadata": {},
   "outputs": [],
   "source": [
    "pickle.dump(model,open(eye_disease_moeld_file,'wb'))"
   ]
  },
  {
   "cell_type": "code",
   "execution_count": null,
   "id": "759fd8c4",
   "metadata": {},
   "outputs": [],
   "source": []
  }
 ],
 "metadata": {
  "kernelspec": {
   "display_name": "Python 3 (ipykernel)",
   "language": "python",
   "name": "python3"
  },
  "language_info": {
   "codemirror_mode": {
    "name": "ipython",
    "version": 3
   },
   "file_extension": ".py",
   "mimetype": "text/x-python",
   "name": "python",
   "nbconvert_exporter": "python",
   "pygments_lexer": "ipython3",
   "version": "3.9.16"
  }
 },
 "nbformat": 4,
 "nbformat_minor": 5
}
