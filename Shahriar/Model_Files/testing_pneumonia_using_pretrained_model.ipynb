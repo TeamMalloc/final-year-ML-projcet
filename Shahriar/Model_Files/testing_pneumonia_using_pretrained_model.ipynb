{
 "cells": [
  {
   "cell_type": "code",
   "execution_count": 1,
   "id": "6b2daae0",
   "metadata": {},
   "outputs": [],
   "source": [
    "import pickle\n",
    "from PIL import Image"
   ]
  },
  {
   "cell_type": "code",
   "execution_count": 2,
   "id": "d01be328",
   "metadata": {},
   "outputs": [],
   "source": [
    "pre_trained_model = pickle.load(open('pneumonia-disease-pretrained-mode.sav','rb'))"
   ]
  },
  {
   "cell_type": "code",
   "execution_count": 12,
   "id": "644569ed",
   "metadata": {},
   "outputs": [],
   "source": [
    "image_path1 = 'D:/NEUB/MachineLearning/ThesisProject/x-rayImages/chest_xray/chest_xray/test/NORMAL/IM-0001-0001.jpeg'\n",
    "image_path2 = 'D:/NEUB/MachineLearning/ThesisProject/x-rayImages/chest_xray/chest_xray/test/PNEUMONIA/person14_virus_44.jpeg'"
   ]
  },
  {
   "cell_type": "code",
   "execution_count": 13,
   "id": "ac328185",
   "metadata": {},
   "outputs": [],
   "source": [
    "from torchvision import models, datasets, transforms\n",
    "individual_image_transform = transforms.Compose([\n",
    "    transforms.Resize((224, 224)),\n",
    "    transforms.RandomGrayscale(p=1),\n",
    "    transforms.ToTensor(),\n",
    "    transforms.Normalize([0.0020],[0.0010])\n",
    "])"
   ]
  },
  {
   "cell_type": "code",
   "execution_count": 14,
   "id": "76c561aa",
   "metadata": {},
   "outputs": [],
   "source": [
    "individual_image = Image.open(image_path2).convert(\"RGB\")"
   ]
  },
  {
   "cell_type": "code",
   "execution_count": 15,
   "id": "323a38c7",
   "metadata": {},
   "outputs": [],
   "source": [
    "individual_image = individual_image_transform(individual_image)\n",
    "individual_image = individual_image.unsqueeze(0)"
   ]
  },
  {
   "cell_type": "code",
   "execution_count": 16,
   "id": "f28b09fb",
   "metadata": {},
   "outputs": [],
   "source": [
    "import torch\n",
    "device = torch.device(\"cuda\" if torch.cuda.is_available() else \"cpu\")"
   ]
  },
  {
   "cell_type": "code",
   "execution_count": 17,
   "id": "293e3679",
   "metadata": {},
   "outputs": [],
   "source": [
    "pre_trained_model = pre_trained_model.to(device)\n",
    "individual_image = individual_image.to(device)"
   ]
  },
  {
   "cell_type": "code",
   "execution_count": 18,
   "id": "143fba9e",
   "metadata": {},
   "outputs": [],
   "source": [
    "pre_trained_model.eval()\n",
    "with torch.no_grad():\n",
    "    output = pre_trained_model(individual_image)"
   ]
  },
  {
   "cell_type": "code",
   "execution_count": 19,
   "id": "4bbd933e",
   "metadata": {},
   "outputs": [],
   "source": [
    "_,predicted_class = torch.max(output, 1)\n",
    "predicted_class = predicted_class.item()"
   ]
  },
  {
   "cell_type": "code",
   "execution_count": 20,
   "id": "22c1e0cf",
   "metadata": {},
   "outputs": [
    {
     "name": "stdout",
     "output_type": "stream",
     "text": [
      "1\n"
     ]
    }
   ],
   "source": [
    "print(predicted_class)"
   ]
  },
  {
   "cell_type": "code",
   "execution_count": null,
   "id": "e7a1ea38",
   "metadata": {},
   "outputs": [],
   "source": []
  }
 ],
 "metadata": {
  "kernelspec": {
   "display_name": "Python 3 (ipykernel)",
   "language": "python",
   "name": "python3"
  },
  "language_info": {
   "codemirror_mode": {
    "name": "ipython",
    "version": 3
   },
   "file_extension": ".py",
   "mimetype": "text/x-python",
   "name": "python",
   "nbconvert_exporter": "python",
   "pygments_lexer": "ipython3",
   "version": "3.9.16"
  }
 },
 "nbformat": 4,
 "nbformat_minor": 5
}
